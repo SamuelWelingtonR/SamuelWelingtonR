{
  "nbformat": 4,
  "nbformat_minor": 0,
  "metadata": {
    "colab": {
      "provenance": [],
      "authorship_tag": "ABX9TyPXii2vgTvok7B3MKszOU4V",
      "include_colab_link": true
    },
    "kernelspec": {
      "name": "python3",
      "display_name": "Python 3"
    },
    "language_info": {
      "name": "python"
    }
  },
  "cells": [
    {
      "cell_type": "markdown",
      "metadata": {
        "id": "view-in-github",
        "colab_type": "text"
      },
      "source": [
        "<a href=\"https://colab.research.google.com/github/SamuelWelingtonR/SamuelWelingtonR/blob/main/Untitled2.ipynb\" target=\"_parent\"><img src=\"https://colab.research.google.com/assets/colab-badge.svg\" alt=\"Open In Colab\"/></a>"
      ]
    },
    {
      "cell_type": "code",
      "execution_count": 1,
      "metadata": {
        "colab": {
          "base_uri": "https://localhost:8080/"
        },
        "id": "E80n2A026_fu",
        "outputId": "02cb2693-1852-4a5b-e0c5-2684a0023ef1"
      },
      "outputs": [
        {
          "output_type": "execute_result",
          "data": {
            "text/plain": [
              "bool"
            ]
          },
          "metadata": {},
          "execution_count": 1
        }
      ],
      "source": [
        "nome = 'jose' # string\n",
        "preco = 12.5  # Numericas mas pertencentes aos reais\n",
        "idade  = 30   # numericas mas pertencentes aos inteiros\n",
        "ehMaior =  idade > 18 #logica ou boleanas george boole\n",
        "\n",
        "type(ehMaior)\n"
      ]
    },
    {
      "cell_type": "code",
      "source": [
        "entrada de dados notepad\n",
        "\n",
        "time = 'input'('insira o nome do time: ')\n",
        "print(time)\n",
        "\n",
        "#pede para inserir um numero e retorna o dobro\n",
        "numero = int(input('Insira um numero'))\n",
        "print (numero * 2)\n",
        "\n",
        " #pede para inserir um numero e retorne a sua metade\n",
        "\n",
        " #A circunferencia do circulo é medida pela formula 2 * pi *raio\n",
        " #Faça um alogoritimo que pede o raio e retorna a circunferencia\n",
        " #use pi = 3.14\n",
        " raio = float(input('insira o raio'))\n",
        " circinferencia == 2 * 3.14 * raio\n",
        " print(circunferencia)\n",
        ""
      ],
      "metadata": {
        "colab": {
          "base_uri": "https://localhost:8080/",
          "height": 106
        },
        "id": "lGhgHnWn7Oiu",
        "outputId": "d8e37053-ee3c-4ed4-c627-9a6853168f9b"
      },
      "execution_count": 2,
      "outputs": [
        {
          "output_type": "error",
          "ename": "SyntaxError",
          "evalue": "invalid syntax (<ipython-input-2-63f6bf285dfd>, line 1)",
          "traceback": [
            "\u001b[0;36m  File \u001b[0;32m\"<ipython-input-2-63f6bf285dfd>\"\u001b[0;36m, line \u001b[0;32m1\u001b[0m\n\u001b[0;31m    entrada de dados notepad\u001b[0m\n\u001b[0m            ^\u001b[0m\n\u001b[0;31mSyntaxError\u001b[0m\u001b[0;31m:\u001b[0m invalid syntax\n"
          ]
        }
      ]
    },
    {
      "cell_type": "code",
      "source": [
        "#se for sabado e estiver fazendo sol, então vou à praia\n",
        "dia = 'sabado '\n",
        "clima = 'nublado '\n",
        "if (dia =='sabado' and clima =='sol'):\n",
        "  print('vou à praia')\n",
        "  else:\n",
        "    print('vou trabalhar')"
      ],
      "metadata": {
        "colab": {
          "base_uri": "https://localhost:8080/",
          "height": 106
        },
        "id": "UwfHs7WqCKoV",
        "outputId": "93edb440-8fee-4811-d546-4126e63ccbad"
      },
      "execution_count": 3,
      "outputs": [
        {
          "output_type": "error",
          "ename": "SyntaxError",
          "evalue": "invalid syntax (<ipython-input-3-8772ce4b88f1>, line 6)",
          "traceback": [
            "\u001b[0;36m  File \u001b[0;32m\"<ipython-input-3-8772ce4b88f1>\"\u001b[0;36m, line \u001b[0;32m6\u001b[0m\n\u001b[0;31m    else:\u001b[0m\n\u001b[0m    ^\u001b[0m\n\u001b[0;31mSyntaxError\u001b[0m\u001b[0;31m:\u001b[0m invalid syntax\n"
          ]
        }
      ]
    },
    {
      "cell_type": "code",
      "source": [
        "# Solicita ao usuario e a altura e o peso\n",
        "# Retorna o calculo do IMC\n",
        "# peso/altura ao quadrado\n",
        "peso = float(input('peso'))\n",
        "Altura = float(imput('altura'))\n",
        "imc = peso/altura**2\n",
        "print ('O IMC é ' ,imc)\n"
      ],
      "metadata": {
        "colab": {
          "base_uri": "https://localhost:8080/",
          "height": 228
        },
        "id": "dPJ7aQ4LDl8g",
        "outputId": "12df0758-42a2-412b-d047-516372efb75c"
      },
      "execution_count": 6,
      "outputs": [
        {
          "name": "stdout",
          "output_type": "stream",
          "text": [
            "peso50\n"
          ]
        },
        {
          "output_type": "error",
          "ename": "NameError",
          "evalue": "name 'imput' is not defined",
          "traceback": [
            "\u001b[0;31m---------------------------------------------------------------------------\u001b[0m",
            "\u001b[0;31mNameError\u001b[0m                                 Traceback (most recent call last)",
            "\u001b[0;32m<ipython-input-6-15c684a03c37>\u001b[0m in \u001b[0;36m<cell line: 5>\u001b[0;34m()\u001b[0m\n\u001b[1;32m      3\u001b[0m \u001b[0;31m# peso/altura ao quadrado\u001b[0m\u001b[0;34m\u001b[0m\u001b[0;34m\u001b[0m\u001b[0m\n\u001b[1;32m      4\u001b[0m \u001b[0mpeso\u001b[0m \u001b[0;34m=\u001b[0m \u001b[0mfloat\u001b[0m\u001b[0;34m(\u001b[0m\u001b[0minput\u001b[0m\u001b[0;34m(\u001b[0m\u001b[0;34m'peso'\u001b[0m\u001b[0;34m)\u001b[0m\u001b[0;34m)\u001b[0m\u001b[0;34m\u001b[0m\u001b[0;34m\u001b[0m\u001b[0m\n\u001b[0;32m----> 5\u001b[0;31m \u001b[0mAltura\u001b[0m \u001b[0;34m=\u001b[0m \u001b[0mfloat\u001b[0m\u001b[0;34m(\u001b[0m\u001b[0mimput\u001b[0m\u001b[0;34m(\u001b[0m\u001b[0;34m'altura'\u001b[0m\u001b[0;34m)\u001b[0m\u001b[0;34m)\u001b[0m\u001b[0;34m\u001b[0m\u001b[0;34m\u001b[0m\u001b[0m\n\u001b[0m\u001b[1;32m      6\u001b[0m \u001b[0mimc\u001b[0m \u001b[0;34m=\u001b[0m \u001b[0mpeso\u001b[0m\u001b[0;34m/\u001b[0m\u001b[0maltura\u001b[0m\u001b[0;34m**\u001b[0m\u001b[0;36m2\u001b[0m\u001b[0;34m\u001b[0m\u001b[0;34m\u001b[0m\u001b[0m\n\u001b[1;32m      7\u001b[0m \u001b[0mprint\u001b[0m \u001b[0;34m(\u001b[0m\u001b[0;34m'O IMC é '\u001b[0m \u001b[0;34m,\u001b[0m\u001b[0mimc\u001b[0m\u001b[0;34m)\u001b[0m\u001b[0;34m\u001b[0m\u001b[0;34m\u001b[0m\u001b[0m\n",
            "\u001b[0;31mNameError\u001b[0m: name 'imput' is not defined"
          ]
        }
      ]
    },
    {
      "cell_type": "code",
      "source": [
        "# Converter uma temoeratura em graus celsius para kelvin\n",
        "#temperatura e, celsius soma 274"
      ],
      "metadata": {
        "id": "d158OvKmE3ni"
      },
      "execution_count": 5,
      "outputs": []
    },
    {
      "cell_type": "code",
      "source": [],
      "metadata": {
        "id": "AHFwJHcYFik-"
      },
      "execution_count": null,
      "outputs": []
    },
    {
      "cell_type": "code",
      "source": [
        "#Recebe dois numeros\n",
        "#Diz qual é o maior\n",
        "#informa se forem iguais"
      ],
      "metadata": {
        "id": "IjGb87ELFY2v"
      },
      "execution_count": null,
      "outputs": []
    },
    {
      "cell_type": "code",
      "source": [
        "## verifica faixas etárias:\n",
        "\n",
        "#Criança: ate 12 anos;\n",
        "##Adolescente: de 13 a 17 anos;\n",
        "#adulto: de 18 a 64 anso;\n",
        "#Idoso: 65 anos ou mais.\n",
        "idade = int (input('bote sua idade, otaro'))\n",
        "\n",
        "if (idade >= 65):\n",
        "  print ('idoso')\n",
        "\n",
        "elif(idade >= 18):\n",
        "  print('adulto')\n",
        "elif(idade >= 13):\n",
        "  print('adolescente')\n",
        "  else:\n",
        "    print('criança')"
      ],
      "metadata": {
        "id": "QfWZwgt1GCfe"
      },
      "execution_count": null,
      "outputs": []
    },
    {
      "cell_type": "code",
      "source": [],
      "metadata": {
        "id": "H5CYq159HxTc"
      },
      "execution_count": null,
      "outputs": []
    }
  ]
}