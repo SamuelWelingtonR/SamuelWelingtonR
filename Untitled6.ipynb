{
  "nbformat": 4,
  "nbformat_minor": 0,
  "metadata": {
    "colab": {
      "provenance": [],
      "toc_visible": true,
      "authorship_tag": "ABX9TyPxYkAi+h6uFJnE5uQwpoh/",
      "include_colab_link": true
    },
    "kernelspec": {
      "name": "python3",
      "display_name": "Python 3"
    },
    "language_info": {
      "name": "python"
    }
  },
  "cells": [
    {
      "cell_type": "markdown",
      "metadata": {
        "id": "view-in-github",
        "colab_type": "text"
      },
      "source": [
        "<a href=\"https://colab.research.google.com/github/SamuelWelingtonR/SamuelWelingtonR/blob/main/Untitled6.ipynb\" target=\"_parent\"><img src=\"https://colab.research.google.com/assets/colab-badge.svg\" alt=\"Open In Colab\"/></a>"
      ]
    },
    {
      "cell_type": "code",
      "source": [],
      "metadata": {
        "id": "uFhFQsUnRohq"
      },
      "execution_count": null,
      "outputs": []
    },
    {
      "cell_type": "code",
      "source": [
        "letra = input('Digite letra')\n",
        "while(letra == 'p'):\n",
        "\n",
        " print('E p, otaro!')\n",
        " letra = input('Digite')\n",
        "\n",
        " print ('Sai do laço while')"
      ],
      "metadata": {
        "colab": {
          "base_uri": "https://localhost:8080/"
        },
        "id": "I6ZzvN5fP3Mm",
        "outputId": "58651aa6-54f9-4814-8d93-3e883e2b03cc"
      },
      "execution_count": 6,
      "outputs": [
        {
          "output_type": "stream",
          "name": "stdout",
          "text": [
            "Digite letrap\n",
            "E p, otaro!\n",
            "Digitep\n",
            "Sai do laço while\n",
            "E p, otaro!\n",
            "Digitea\n",
            "Sai do laço while\n"
          ]
        }
      ]
    },
    {
      "cell_type": "code",
      "source": [
        "# omrpimir os numeros de 1 a 10\n",
        "cont = 1\n",
        "\n",
        "while (cont <= 10):\n",
        "  print(cont)\n",
        "  cont += 1\n"
      ],
      "metadata": {
        "colab": {
          "base_uri": "https://localhost:8080/"
        },
        "id": "rEm2mUpTSTCm",
        "outputId": "4c6a4cca-54c5-43f4-94d3-85800f727176"
      },
      "execution_count": 9,
      "outputs": [
        {
          "output_type": "stream",
          "name": "stdout",
          "text": [
            "1\n",
            "2\n",
            "3\n",
            "4\n",
            "5\n",
            "6\n",
            "7\n",
            "8\n",
            "9\n",
            "10\n"
          ]
        }
      ]
    },
    {
      "cell_type": "code",
      "source": [
        "numSecreto = 2\n",
        "\n",
        "## Crie um codigo usando o laço while\n",
        "## O sistema deve pedir ao usuario que tente acerta o numero\n",
        "## Se o numero for correto... Imorime \"Parabens\"\n",
        "## Se for errado, imprimir \"Não foi desta vez, otarão! tente outra vez\"\n",
        "\n",
        "controle = True\n",
        "\n",
        "while (controle == True):\n",
        " tentativa = int(input('Tente acerta o numero, chimpanzé!'))\n",
        "\n",
        "if numSecreto == tentativa:\n",
        "  print('Parabens!')\n",
        "  controle = False\n",
        "else:\n",
        "  print('Errrrrou! tente outra vez, otario!')"
      ],
      "metadata": {
        "id": "wSX_NhnRTAve"
      },
      "execution_count": null,
      "outputs": []
    },
    {
      "cell_type": "code",
      "source": [],
      "metadata": {
        "id": "thP-eM5IbDyP"
      },
      "execution_count": null,
      "outputs": []
    }
  ]
}