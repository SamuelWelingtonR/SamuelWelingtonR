{
  "nbformat": 4,
  "nbformat_minor": 0,
  "metadata": {
    "colab": {
      "provenance": [],
      "toc_visible": true,
      "authorship_tag": "ABX9TyNRJCYdgD4txY+mLseGY2FX",
      "include_colab_link": true
    },
    "kernelspec": {
      "name": "python3",
      "display_name": "Python 3"
    },
    "language_info": {
      "name": "python"
    }
  },
  "cells": [
    {
      "cell_type": "markdown",
      "metadata": {
        "id": "view-in-github",
        "colab_type": "text"
      },
      "source": [
        "<a href=\"https://colab.research.google.com/github/SamuelWelingtonR/SamuelWelingtonR/blob/main/Untitled5.ipynb\" target=\"_parent\"><img src=\"https://colab.research.google.com/assets/colab-badge.svg\" alt=\"Open In Colab\"/></a>"
      ]
    },
    {
      "cell_type": "code",
      "execution_count": null,
      "metadata": {
        "id": "JCTLtgGTFxRU"
      },
      "outputs": [],
      "source": [
        "carros [gol , uno , palio]"
      ]
    },
    {
      "cell_type": "code",
      "source": [
        "listaCarro = [None] * 5\n",
        "listaConsumo = [None] * 5\n",
        "listaDistancia = [None] * 5\n",
        "listaCusto = [None] * 5\n",
        "\n",
        "precoGasolina = 2.25\n",
        "distancia = 1000\n",
        "\n",
        "for i in range(0,5):\n",
        "    print ('Digite o nome {} carro: '.format(i+1))\n",
        "    listaCarro[i] = input()\n",
        "\n",
        "for x in range(0,5):\n",
        "    print('Digite o consumo {} carro (km por litro): '.format(x+1))\n",
        "    listaConsumo[x] = float(input())\n",
        "    listaDistancia[x] = distancia / listaConsumo[x]\n",
        "    listaCusto[x] = listaDistancia[x] * precoGasolina\n",
        "\n",
        "for j in range(0,5):\n",
        "    print('Veiculo {}'.format(j+1))\n",
        "    print('Nome: {}'.format(listaCarro[j]))\n",
        "    print('Km por litro: {}'.format(listaConsumo[j]))\n",
        "\n",
        "for p in range(0,5):\n",
        "    print('{} - {}    -    {}  -  {} litros - R$ {}\\n'.format(p+1, listaCarro[p], listaConsumo[p], round(listaDistancia[p],1), round(listaCusto[p],2)))"
      ],
      "metadata": {
        "id": "Skmk5JM2Glrs"
      },
      "execution_count": null,
      "outputs": []
    },
    {
      "cell_type": "code",
      "source": [
        "\n",
        "carros = ['chevete', 'santana', 'kadete']\n"
      ],
      "metadata": {
        "id": "6Toszfd2IEtZ"
      },
      "execution_count": null,
      "outputs": []
    },
    {
      "cell_type": "code",
      "source": [
        "\n",
        "nomeCarro = input('Digite o nome do carro: ')\n",
        "carros.append(nomeCarro)\n",
        "print(carros)"
      ],
      "metadata": {
        "id": "y6isXv30IvHY"
      },
      "execution_count": null,
      "outputs": []
    },
    {
      "cell_type": "code",
      "source": [
        "\n",
        "nomeCar = input('Digite o nome: ')\n",
        "if nomeCar in carros:\n",
        "  print('Já tem o carro')\n",
        "else:\n",
        "  print('Não tem o carro')"
      ],
      "metadata": {
        "id": "QeCnM1e6I3uA"
      },
      "execution_count": null,
      "outputs": []
    },
    {
      "cell_type": "code",
      "source": [
        "carros.pop()\n",
        "print(carros)"
      ],
      "metadata": {
        "id": "-c74qXXiJKs2"
      },
      "execution_count": null,
      "outputs": []
    },
    {
      "cell_type": "code",
      "source": [
        "nomeCarro = input('digite o nome do para remover: ').upper()\n",
        "if nomeCarro in carros:\n",
        "  carro.remove(nomeCarro)\n",
        "print(f'o carro {nomeCarro}, foi removido com sucesso')\n",
        "else:\n",
        "  print (f'o carro{nomeCarro} nao esta na lista!')\n",
        "  print(carros)"
      ],
      "metadata": {
        "id": "VaoNGiU6I5t_"
      },
      "execution_count": null,
      "outputs": []
    },
    {
      "cell_type": "code",
      "source": [
        "produto =['faca', 'tesoura', 'chave', 'Livro', 'caneta', 'copo']"
      ],
      "metadata": {
        "id": "wk4kbkSTNvOO"
      },
      "execution_count": 26,
      "outputs": []
    },
    {
      "cell_type": "code",
      "source": [
        "for produto in produto:\n",
        "  print(produto)"
      ],
      "metadata": {
        "id": "A3cNVQb9QMiH"
      },
      "execution_count": null,
      "outputs": []
    },
    {
      "cell_type": "code",
      "source": [
        "#Tamanho de cada item\n",
        "for produto in produto:\n",
        "  print(f'{produto} - {len(produto)}')\n"
      ],
      "metadata": {
        "colab": {
          "base_uri": "https://localhost:8080/"
        },
        "id": "c7Bflj4jOPba",
        "outputId": "455c140f-a0ee-4289-a524-9cf3ddc13f90"
      },
      "execution_count": 27,
      "outputs": [
        {
          "output_type": "stream",
          "name": "stdout",
          "text": [
            "faca - 4\n",
            "tesoura - 7\n",
            "chave - 5\n",
            "Livro - 5\n",
            "caneta - 6\n",
            "copo - 4\n"
          ]
        }
      ]
    },
    {
      "cell_type": "code",
      "source": [
        "#Imprimir apenas produtos com 6 letras ou mais\n",
        "for produto in produtos:\n",
        "  if len(produto) >=6:\n",
        "    print(produto)"
      ],
      "metadata": {
        "id": "aWBm1asPQgZp"
      },
      "execution_count": null,
      "outputs": []
    },
    {
      "cell_type": "code",
      "source": [
        "nums =[25,1,34,8,3,9,22,56]"
      ],
      "metadata": {
        "id": "_S-ooc1vRVQX"
      },
      "execution_count": 35,
      "outputs": []
    },
    {
      "cell_type": "code",
      "source": [
        "##Somar todos os itens da lista\n",
        "soma = 0\n",
        "for num in nums:\n",
        "  soma += num\n",
        "\n",
        "  print(soma)"
      ],
      "metadata": {
        "colab": {
          "base_uri": "https://localhost:8080/"
        },
        "id": "EhalNvjmRh-W",
        "outputId": "78a714a1-e203-4913-8ac0-96723b637df6"
      },
      "execution_count": 31,
      "outputs": [
        {
          "output_type": "stream",
          "name": "stdout",
          "text": [
            "25\n",
            "26\n",
            "60\n",
            "68\n",
            "71\n",
            "80\n"
          ]
        }
      ]
    },
    {
      "cell_type": "code",
      "source": [
        "sum(nums)"
      ],
      "metadata": {
        "colab": {
          "base_uri": "https://localhost:8080/"
        },
        "id": "065jFqmVSK51",
        "outputId": "ca9b5ec6-5b8c-449a-f83c-4293659a302b"
      },
      "execution_count": 32,
      "outputs": [
        {
          "output_type": "execute_result",
          "data": {
            "text/plain": [
              "80"
            ]
          },
          "metadata": {},
          "execution_count": 32
        }
      ]
    },
    {
      "cell_type": "code",
      "source": [
        "#Imprimir apenas os numeros pares da lista\n",
        "for num in nums:\n",
        "  if num % 2 == 0:\n",
        "    print(num)\n",
        ""
      ],
      "metadata": {
        "colab": {
          "base_uri": "https://localhost:8080/"
        },
        "id": "L5iBAPc9SiI9",
        "outputId": "82186d87-6dfe-4934-8868-7bc08598d7a4"
      },
      "execution_count": 36,
      "outputs": [
        {
          "output_type": "stream",
          "name": "stdout",
          "text": [
            "34\n",
            "8\n",
            "22\n",
            "56\n"
          ]
        }
      ]
    },
    {
      "cell_type": "code",
      "source": [
        "notas = [4.0,3.5,7.8,9.5,10.0]\n",
        "#1 - Imprimir so as notas acima da media 7.0\n",
        "#2 - Imprimir as notas reprovadas (abaixo da 7.0)\n",
        "#3 - Imprimir a quantidade de notas baixas\n",
        "#4 - Imprimir a quantidade de notas altas\n"
      ],
      "metadata": {
        "id": "kCSsY99JT9pq"
      },
      "execution_count": 38,
      "outputs": []
    }
  ]
}